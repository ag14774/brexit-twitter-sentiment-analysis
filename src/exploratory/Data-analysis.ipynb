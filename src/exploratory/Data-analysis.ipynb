{
 "cells": [
  {
   "cell_type": "code",
   "execution_count": null,
   "metadata": {
    "scrolled": true
   },
   "outputs": [],
   "source": [
    "import pandas as pd\n",
    "# load train data\n",
    "dataset = pd.read_csv('../../data/merged_test.csv', encoding='utf-8', delimiter=',',\n",
    "                      error_bad_lines=False, lineterminator='\\n')\n",
    "dataset.columns = ['date', 'text', 'score']\n",
    "# get text and matching label columns\n",
    "dataset = dataset.drop(['score'], axis=1)\n",
    "dataset.sample(10)"
   ]
  },
  {
   "cell_type": "code",
   "execution_count": null,
   "metadata": {
    "scrolled": true
   },
   "outputs": [],
   "source": [
    "positives = dataset['sentiment'][dataset.sentiment == 0]\n",
    "negatives = dataset['sentiment'][dataset.sentiment == 4]\n",
    "print('number of positive tagged sentences is:  {}'.format(len(positives)))\n",
    "print('number of negative tagged sentences is: {}'.format(len(negatives)))\n",
    "print('total length of the data is:            {}'.format(dataset.shape[0]))"
   ]
  },
  {
   "cell_type": "code",
   "execution_count": null,
   "metadata": {},
   "outputs": [],
   "source": [
    "# get a word count per sentence column\n",
    "def word_count(sentence):\n",
    "    return len(sentence.split())\n",
    "    \n",
    "dataset['word count'] = dataset['text'].apply(word_count)\n",
    "temp_dataset = dataset.drop(['date'], axis=1)\n",
    "temp_dataset.sample(10)"
   ]
  },
  {
   "cell_type": "code",
   "execution_count": null,
   "metadata": {},
   "outputs": [],
   "source": [
    "import matplotlib.pyplot as plt\n",
    "# plot word count distribution for both positive and negative sentiments\n",
    "x = dataset['word count']\n",
    "plt.figure(figsize=(12,6))\n",
    "plt.xlim(0,45)\n",
    "plt.xlabel('word count')\n",
    "plt.ylabel('frequency')\n",
    "g = plt.hist([x], color=['g'], alpha=0.5)"
   ]
  },
  {
   "cell_type": "code",
   "execution_count": null,
   "metadata": {},
   "outputs": [],
   "source": [
    "from collections import Counter\n",
    "# get most common words in training dataset\n",
    "all_words = []\n",
    "for line in list(dataset['text']):\n",
    "    words = line.split()\n",
    "    for word in words:\n",
    "        all_words.append(word.lower())\n",
    "    \n",
    "    \n",
    "Counter(all_words).most_common(10)"
   ]
  },
  {
   "cell_type": "code",
   "execution_count": null,
   "metadata": {},
   "outputs": [],
   "source": [
    "from nltk import FreqDist\n",
    "# plot word frequency distribution of first few words\n",
    "plt.figure(figsize=(12,5))\n",
    "plt.title('Top 25 most common words')\n",
    "plt.xticks(fontsize=13, rotation=90)\n",
    "fd = FreqDist(all_words)\n",
    "fd.plot(25,cumulative=False)"
   ]
  }
 ],
 "metadata": {
  "kernelspec": {
   "display_name": "Python 3",
   "language": "python",
   "name": "python3"
  },
  "language_info": {
   "codemirror_mode": {
    "name": "ipython",
    "version": 3
   },
   "file_extension": ".py",
   "mimetype": "text/x-python",
   "name": "python",
   "nbconvert_exporter": "python",
   "pygments_lexer": "ipython3",
   "version": "3.7.2"
  }
 },
 "nbformat": 4,
 "nbformat_minor": 2
}
